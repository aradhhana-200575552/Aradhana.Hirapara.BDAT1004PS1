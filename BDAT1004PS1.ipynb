{
 "cells": [
  {
   "cell_type": "markdown",
   "id": "14a54cb8-2109-431d-ab35-a099363ddf9c",
   "metadata": {},
   "source": [
    "# Problem Set 1 - 200575552"
   ]
  },
  {
   "cell_type": "markdown",
   "id": "f30e0c84-2aaf-4d0f-bd34-947d6e0ea7bf",
   "metadata": {},
   "source": [
    "# Question 1\n",
    "What data type is each of the following (evaluate where necessary)?\n",
    "5\n",
    "5.0\n",
    "5 > 1\n",
    "'5'\n",
    "5 * 2\n",
    "'5' * 2\n",
    "'5' + '2'\n",
    "5 / 2\n",
    "5 % 2\n",
    "{5, 2, 1}\n",
    "5 == 3\n",
    "Pi (the number)"
   ]
  },
  {
   "cell_type": "code",
   "execution_count": 1,
   "id": "9e428fb3-3cda-4fa7-8f34-1dfc7bb1b14b",
   "metadata": {},
   "outputs": [
    {
     "name": "stdout",
     "output_type": "stream",
     "text": [
      "<class 'int'>\n",
      "<class 'float'>\n",
      "<class 'bool'>\n",
      "<class 'str'>\n",
      "<class 'int'>\n",
      "<class 'str'>\n",
      "<class 'str'>\n",
      "<class 'float'>\n",
      "<class 'int'>\n",
      "<class 'set'>\n",
      "<class 'bool'>\n",
      "<class 'float'>\n"
     ]
    }
   ],
   "source": [
    "# Evaluating data type\n",
    "\n",
    "print(type(5))            \n",
    "print(type(5.0))          \n",
    "print(type(5 > 1))        \n",
    "print(type('5'))          \n",
    "print(type(5 * 2))        \n",
    "print(type('5' * 2))      \n",
    "print(type('5' + '2'))    \n",
    "print(type(5 / 2))        \n",
    "print(type(5 % 2))        \n",
    "print(type({5, 2, 1}))    \n",
    "print(type(5 == 3))       \n",
    "\n",
    "import math\n",
    "print(type(math.pi))"
   ]
  },
  {
   "cell_type": "markdown",
   "id": "562f30e2-09b9-4f91-b2c2-a1c309b145f8",
   "metadata": {},
   "source": [
    "# Question 2\n",
    "Write (and evaluate) python expressions that answer these questions:\n",
    "a. How many letters are there in 'Supercalifragilisticexpialidocious'?\n",
    "b. Does 'Supercalifragilisticexpialidocious' contain 'ice' as a substring?\n",
    "c. Which of the following words is the longest:\n",
    "Supercalifragilisticexpialidocious, Honorificabilitudinitatibus, or\n",
    "Bababadalgharaghtakamminarronnkonn?\n",
    "d. Which composer comes first in the dictionary: 'Berlioz', 'Borodin', 'Brian',\n",
    "'Bartok', 'Bellini', 'Buxtehude', 'Bernstein'. Which one comes last?"
   ]
  },
  {
   "cell_type": "code",
   "execution_count": 2,
   "id": "288591ea-cd66-4982-807d-cb5229d39cf0",
   "metadata": {},
   "outputs": [
    {
     "name": "stdout",
     "output_type": "stream",
     "text": [
      "Output a:  34\n",
      "Output b:  True\n",
      "Output c:  Supercalifragilisticexpialidocious\n",
      "Output d:  First: Bartok, Last: Buxtehude\n"
     ]
    }
   ],
   "source": [
    "# a. Number of letters in 'Supercalifragilisticexpialidocious'\n",
    "print(\"Output a: \", len('Supercalifragilisticexpialidocious'))\n",
    "\n",
    "# b. Checking if 'Supercalifragilisticexpialidocious' contains 'ice'\n",
    "print(\"Output b: \", 'ice' in 'Supercalifragilisticexpialidocious')\n",
    "\n",
    "# c. Find the longest word\n",
    "words = ['Supercalifragilisticexpialidocious', 'Honorificabilitudinitatibus', 'Bababadalgharaghtakamminarronnkonn']\n",
    "longest_word = max(words, key=len)\n",
    "print(\"Output c: \",longest_word)\n",
    "\n",
    "# d. First and last composer in dictionary order\n",
    "composers = ['Berlioz', 'Borodin', 'Brian', 'Bartok', 'Bellini', 'Buxtehude', 'Bernstein']\n",
    "first_composer = min(composers)\n",
    "last_composer = max(composers)\n",
    "print(\"Output d: \", f\"First: {first_composer}, Last: {last_composer}\")"
   ]
  },
  {
   "cell_type": "markdown",
   "id": "bda444c0-551b-4104-9b94-4bcb04728ee6",
   "metadata": {},
   "source": [
    "# Question 3\n",
    "Implement function triangleArea(a,b,c) that takes as input the lengths of the 3\n",
    "sides of a triangle and returns the area of the triangle. By Heron's formula, the area\n",
    "of a triangle with side lengths a, b, and c iss(s - a)(s - b)(s - c) , wheres = (a + b + c)/2\n",
    ".\n",
    ">>> triangleArea(2,2,2)\n",
    "1.7320508075688772"
   ]
  },
  {
   "cell_type": "code",
   "execution_count": 3,
   "id": "44749332-976b-42cd-9e11-f07d9f33c7ee",
   "metadata": {},
   "outputs": [
    {
     "name": "stdout",
     "output_type": "stream",
     "text": [
      "1.7320508075688772\n"
     ]
    }
   ],
   "source": [
    "def triangleArea(a, b, c):\n",
    "    s = (a + b + c) / 2\n",
    "    area = (s * (s - a) * (s - b) * (s - c)) ** 0.5\n",
    "    return area\n",
    "\n",
    "# Test case\n",
    "print(triangleArea(2, 2, 2))"
   ]
  },
  {
   "cell_type": "markdown",
   "id": "9b3d624e-44d9-4375-80e3-0517d3217e7b",
   "metadata": {},
   "source": [
    "# Question 4\n",
    "Write a program in python to separate odd and even integers in separate arrays. Go\n",
    "to the editor\n",
    "Test Data :\n",
    "Input the number of elements to be stored in the array :5\n",
    "Input 5 elements in the array :\n",
    "element - 0 : 25\n",
    "element - 1 : 47\n",
    "element - 2 : 42\n",
    "element - 3 : 56\n",
    "element - 4 : 32\n",
    "Expected Output:\n",
    "The Even elements are:\n",
    "42 56 32\n",
    "The Odd elements are :\n",
    "25 47"
   ]
  },
  {
   "cell_type": "code",
   "execution_count": 4,
   "id": "935a526a-b347-415a-ba7e-febbb0918f9d",
   "metadata": {},
   "outputs": [
    {
     "name": "stdin",
     "output_type": "stream",
     "text": [
      "Input the number of elements you want to store in the array:  5\n",
      "element - 0:  23\n",
      "element - 1:  56\n",
      "element - 2:  89\n",
      "element - 3:  24\n",
      "element - 4:  87\n"
     ]
    },
    {
     "name": "stdout",
     "output_type": "stream",
     "text": [
      "List of Even elements: 56 24\n",
      "List of Odd elements: 23 89 87\n"
     ]
    }
   ],
   "source": [
    "def separate_even_odd():\n",
    "    n = int(input(\"Input the number of elements you want to store in the array: \"))\n",
    "    arr = [int(input(f\"element - {i}: \")) for i in range(n)]\n",
    "    \n",
    "    even = [x for x in arr if x % 2 == 0]\n",
    "    odd = [x for x in arr if x % 2 != 0]\n",
    "    \n",
    "    print(\"List of Even elements:\", ' '.join(map(str, even)))\n",
    "    print(\"List of Odd elements:\", ' '.join(map(str, odd)))\n",
    "\n",
    "# Example run\n",
    "separate_even_odd()\n"
   ]
  },
  {
   "cell_type": "markdown",
   "id": "f1ab71d0-fa52-4c31-ac72-39b38ebd2626",
   "metadata": {},
   "source": [
    "# Question 5\n",
    "# a. \n",
    "Write a function inside(x,y,x1,y1,x2,y2) that returns True or False\n",
    "depending on whether the point (x,y) lies in the rectangle with lower left\n",
    "corner (x1,y1) and upper right corner (x2,y2).\n",
    ">>> inside(1,1,0,0,2,3)\n",
    "True\n",
    ">>> inside(-1,-1,0,0,2,3)\n",
    "False"
   ]
  },
  {
   "cell_type": "code",
   "execution_count": 5,
   "id": "135f980b-9815-4a46-abe2-8e57089d7c7f",
   "metadata": {},
   "outputs": [
    {
     "name": "stdout",
     "output_type": "stream",
     "text": [
      "True\n",
      "False\n"
     ]
    }
   ],
   "source": [
    "def inside(x, y, x1, y1, x2, y2):\n",
    "    return x1 <= x <= x2 and y1 <= y <= y2\n",
    "\n",
    "# Test cases\n",
    "print(inside(1, 1, 0, 0, 2, 3)) \n",
    "print(inside(-1, -1, 0, 0, 2, 3))\n"
   ]
  },
  {
   "cell_type": "markdown",
   "id": "2755dc95-62ba-4c9c-9b36-bc16a5c1af6d",
   "metadata": {},
   "source": [
    "# Question 5\n",
    "# b. \n",
    "Use function inside() from part a. to write an expression that tests whether\n",
    "the point (1,1) lies in both of the following rectangles: one with lower left\n",
    "corner (0.3, 0.5) and upper right corner (1.1, 0.7) and the other with lower\n",
    "left corner (0.5, 0.2) and upper right corner (1.1, 2)"
   ]
  },
  {
   "cell_type": "code",
   "execution_count": 6,
   "id": "9e070618-3c0c-4ca4-9bbc-2eea5a4b11d3",
   "metadata": {},
   "outputs": [
    {
     "name": "stdout",
     "output_type": "stream",
     "text": [
      "False\n"
     ]
    }
   ],
   "source": [
    "# Check if point (1,1) lies in both rectangles\n",
    "rect1 = inside(1, 1, 0.3, 0.5, 1.1, 0.7)\n",
    "rect2 = inside(1, 1, 0.5, 0.2, 1.1, 2)\n",
    "\n",
    "# Test if a point lies in both rectangles\n",
    "print(rect1 and rect2) "
   ]
  },
  {
   "cell_type": "markdown",
   "id": "e49cc5b3-8243-4315-9683-f95013f4d6f9",
   "metadata": {},
   "source": [
    "# Question 6\n",
    "16. You can turn a word into pig-Latin using the following two rules (simplified):\n",
    "• If the word starts with a consonant, move that letter to the end and append\n",
    "'ay'. For example, 'happy' becomes 'appyhay' and 'pencil' becomes 'encilpay'.\n",
    "• If the word starts with a vowel, simply append 'way' to the end of the word.\n",
    "For example, 'enter' becomes 'enterway' and 'other' becomes 'otherway' . For\n",
    "our purposes, there are 5 vowels: a, e, i, o, u (so we count y as a consonant).\n",
    "Write a function pig() that takes a word (i.e., a string) as input and returns its pig-\n",
    "Latin form. Your function should still work if the input word contains upper case\n",
    "characters. Your output should always be lower case however.\n",
    ">>> pig('happy')\n",
    "'appyhay'\n",
    ">>> pig('Enter')\n",
    "'enterway'"
   ]
  },
  {
   "cell_type": "code",
   "execution_count": 7,
   "id": "60f9e93c-7fb7-46ee-bddd-d31327161971",
   "metadata": {},
   "outputs": [
    {
     "name": "stdout",
     "output_type": "stream",
     "text": [
      "appyhay\n",
      "enterway\n"
     ]
    }
   ],
   "source": [
    "def pig(word):\n",
    "    word = word.lower()\n",
    "    vowels = 'aeiou'\n",
    "    if word[0] in vowels:\n",
    "        return word + 'way'\n",
    "    else:\n",
    "        return word[1:] + word[0] + 'ay'\n",
    "\n",
    "# Test cases\n",
    "print(pig('happy'))\n",
    "print(pig('Enter'))\n"
   ]
  },
  {
   "cell_type": "markdown",
   "id": "81387db6-464a-4ebb-b2c3-859f62b51e0a",
   "metadata": {},
   "source": [
    "# Question 7\n",
    "File bloodtype1.txt records blood-types of patients (A, B, AB, O or OO) at a clinic.\n",
    "Write a function bldcount() that reads the file with name name and reports (i.e.,\n",
    "prints) how many patients there are in each bloodtype.\n",
    ">>> bldcount('bloodtype.txt')\n",
    "There are 10 patients of blood type A.\n",
    "There is one patient of blood type B.\n",
    "There are 10 patients of blood type AB.\n",
    "There are 12 patients of blood type O.\n",
    "There are no patients of blood type OO."
   ]
  },
  {
   "cell_type": "code",
   "execution_count": 8,
   "id": "4b15d0f7-5dc0-4081-9378-0d97cfc24b99",
   "metadata": {},
   "outputs": [
    {
     "name": "stdout",
     "output_type": "stream",
     "text": [
      "There are 10 patients of blood type A.\n",
      "There is one patient of blood type B.\n",
      "There are 10 patients of blood type AB.\n",
      "There are 12 patients of blood type O.\n",
      "There are no patients of blood type OO.\n"
     ]
    }
   ],
   "source": [
    "def bldcount(filename):\n",
    "    blood_types = ['A', 'B', 'AB', 'O', 'OO']\n",
    "    count_dict = {bt: 0 for bt in blood_types}\n",
    "    \n",
    "    with open(filename, 'r') as file:\n",
    "        data = file.read().split()\n",
    "        \n",
    "    for bt in data:\n",
    "        if bt in count_dict:\n",
    "            count_dict[bt] += 1\n",
    "    \n",
    "    for bt, count in count_dict.items():\n",
    "        if count == 0:\n",
    "            print(f\"There are no patients of blood type {bt}.\")\n",
    "        elif count == 1:\n",
    "            print(f\"There is one patient of blood type {bt}.\")\n",
    "        else:\n",
    "            print(f\"There are {count} patients of blood type {bt}.\")\n",
    "\n",
    "# Testing with bloodtype.txt\n",
    "bldcount('bloodtype.txt')"
   ]
  },
  {
   "cell_type": "markdown",
   "id": "8229ad28-223e-441b-b9b9-4ade58d9ba40",
   "metadata": {},
   "source": [
    "# Question 8\n",
    "Write a function curconv() that takes as input:\n",
    "1. a currency represented using a string (e.g., 'JPY' for the Japanese Yen or\n",
    "'EUR' for the Euro)\n",
    "2. an amount\n",
    "and then converts and returns the amount in US dollars.\n",
    ">>> curconv('EUR', 100)\n",
    "122.96544\n",
    ">>> curconv('JPY', 100)\n",
    "1.241401\n",
    "The currency rates you will need are stored in file currencies.txt:\n",
    "AUD 1.0345157 Australian Dollar\n",
    "CHF 1.0237414 Swiss Franc\n",
    "CNY 0.1550176 Chinese Yuan"
   ]
  },
  {
   "cell_type": "code",
   "execution_count": 9,
   "id": "3b861ab1-c102-4a63-99b0-60ac927ea554",
   "metadata": {},
   "outputs": [
    {
     "name": "stdout",
     "output_type": "stream",
     "text": [
      "122.96544\n",
      "1.241401\n"
     ]
    }
   ],
   "source": [
    "def curconv(currency, amount):\n",
    "    rates = {\n",
    "        'AUD': 1.0345157, 'CHF': 1.0237414, 'CNY': 0.1550176, 'DKK': 0.1651442, \n",
    "        'EUR': 1.2296544, 'GBP': 1.5550989, 'HKD': 0.1270207, 'INR': 0.0177643, \n",
    "        'JPY': 0.01241401, 'MXN': 0.0751848, 'MYR': 0.3145411, 'NOK': 0.1677063, \n",
    "        'NZD': 0.8003591, 'PHP': 0.0233234, 'SEK': 0.148269, 'SGD': 0.788871, \n",
    "        'THB': 0.0313789\n",
    "    }\n",
    "    \n",
    "    if currency in rates:\n",
    "        return amount * rates[currency]\n",
    "    else:\n",
    "        return None\n",
    "\n",
    "# Testing with currencies.txt\n",
    "print(curconv('EUR', 100))  # 122.96544\n",
    "print(curconv('JPY', 100))  # 1.241401\n"
   ]
  },
  {
   "cell_type": "markdown",
   "id": "a71d4061-742f-4593-a16c-8d4307fbd836",
   "metadata": {},
   "source": [
    "# Question 9\n",
    "Each of the following will cause an exception (an error). Identify what type of\n",
    "exception each will cause.\n",
    "Trying to add incompatible variables, as in\n",
    "adding 6 + ‘a’\n",
    "Referring to the 12th item of a list that has only 10\n",
    "items\n",
    "Using a value that is out of range for a function’s\n",
    "input, such as calling math.sqrt(-1.0)\n",
    "Using an undeclared variable, such as print(x)\n",
    "when x has not been defined\n",
    "Trying to open a file that does not exist, such as\n",
    "mistyping the file name or looking in the wrong\n",
    "directory."
   ]
  },
  {
   "cell_type": "markdown",
   "id": "8d8d9b9a-41f0-4214-9894-079e539797fd",
   "metadata": {},
   "source": [
    "1. Adding incompatible variables (e.g., 6 + 'a') raises a TypeError.\n",
    "2. Referring to the 12th item of a 10-item list raises an IndexError.\n",
    "3. Using a value out of range (e.g., math.sqrt(-1.0)) raises a ValueError.\n",
    "4. Using an undeclared variable (e.g., print(x) when x is not defined) raises a NameError.\n",
    "5. Trying to open a non-existent file raises a FileNotFoundError."
   ]
  },
  {
   "cell_type": "markdown",
   "id": "03fe3dec-ac33-4018-8cd3-6fd37d96e505",
   "metadata": {},
   "source": [
    "# Question 10\n",
    "Encryption is the process of hiding the meaning of a text by substituting letters in the\n",
    "message with other letters, according to some system. If the process is successful, no\n",
    "one but the intended recipient can understand the encrypted message. Cryptanalysis\n",
    "refers to attempts to undo the encryption, even if some details of the encryption are\n",
    "unknown (for example, if an encrypted message has been intercepted). The first step\n",
    "of cryptanalysis is often to build up a table of letter frequencies in the encrypted text.\n",
    "Assume that the string letters is already defined as\n",
    "'abcdefghijklmnopqrstuvwxyz'. Write a function called frequencies()\n",
    "that takes a string as its only parameter, and returns a list of integers, showing the\n",
    "number of times each character appears in the text. Your function may ignore any\n",
    "characters that are not in letters.\n",
    ">>> frequencies('The quick red fox got bored and went home.')\n",
    "[1, 1, 1, 3, 5, 1, 1, 2, 1, 0, 1, 0, 1, 2, 4, 0, 1, 2, 0, 2,\n",
    "1, 0, 1, 1, 0, 0]\n",
    ">>> frequencies('apple')"
   ]
  },
  {
   "cell_type": "code",
   "execution_count": 10,
   "id": "746d0882-dd14-4182-b39f-5da7c7cb4e98",
   "metadata": {},
   "outputs": [
    {
     "name": "stdout",
     "output_type": "stream",
     "text": [
      "[1, 1, 1, 3, 5, 1, 1, 2, 1, 0, 1, 0, 1, 2, 4, 0, 1, 2, 0, 3, 1, 0, 1, 1, 0, 0]\n",
      "[1, 0, 0, 0, 1, 0, 0, 0, 0, 0, 0, 1, 0, 0, 0, 2, 0, 0, 0, 0, 0, 0, 0, 0, 0, 0]\n"
     ]
    }
   ],
   "source": [
    "def frequencies(text):\n",
    "    letters = 'abcdefghijklmnopqrstuvwxyz'\n",
    "    freq = [0] * len(letters)\n",
    "    \n",
    "    for char in text.lower():\n",
    "        if char in letters:\n",
    "            freq[letters.index(char)] += 1\n",
    "            \n",
    "    return freq\n",
    "\n",
    "# Test cases\n",
    "print(frequencies('The quick red fox got bored and went home.'))\n",
    "print(frequencies('apple'))\n"
   ]
  }
 ],
 "metadata": {
  "kernelspec": {
   "display_name": "Python 3 (ipykernel)",
   "language": "python",
   "name": "python3"
  },
  "language_info": {
   "codemirror_mode": {
    "name": "ipython",
    "version": 3
   },
   "file_extension": ".py",
   "mimetype": "text/x-python",
   "name": "python",
   "nbconvert_exporter": "python",
   "pygments_lexer": "ipython3",
   "version": "3.12.2"
  }
 },
 "nbformat": 4,
 "nbformat_minor": 5
}
