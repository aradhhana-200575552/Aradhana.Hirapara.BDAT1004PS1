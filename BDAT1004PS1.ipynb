{
 "cells": [
  {
   "cell_type": "markdown",
   "id": "67f80394-4cf4-4b05-b48d-4fa286dc8aeb",
   "metadata": {},
   "source": [
    "# Problem 1"
   ]
  },
  {
   "cell_type": "markdown",
   "id": "1af8477b-beea-4617-ae40-7b6afdd690ae",
   "metadata": {},
   "source": [
    "### Question 1\n",
    "What data type is each of the following (evaluate where necessary)?\n",
    "5\n",
    "5.0\n",
    "5 > 1\n",
    "'5'\n",
    "5 * 2\n",
    "'5' * 2\n",
    "'5' + '2'\n",
    "5 / 2\n",
    "5 % 2\n",
    "{5, 2, 1}\n",
    "5 == 3\n",
    "Pi (the number)"
   ]
  },
  {
   "cell_type": "code",
   "execution_count": 1,
   "id": "dec49400-8587-458f-91a6-e2cb3a5963ec",
   "metadata": {},
   "outputs": [
    {
     "data": {
      "text/html": [
       "\r\n",
       "<div>\r\n",
       "    <div id='dotnet-interactive-this-cell-31264.Microsoft.DotNet.Interactive.Http.HttpPort' style='display: none'>\r\n",
       "        The below script needs to be able to find the current output cell; this is an easy method to get it.\r\n",
       "    </div>\r\n",
       "    <script type='text/javascript'>\r\n",
       "async function probeAddresses(probingAddresses) {\r\n",
       "    function timeout(ms, promise) {\r\n",
       "        return new Promise(function (resolve, reject) {\r\n",
       "            setTimeout(function () {\r\n",
       "                reject(new Error('timeout'))\r\n",
       "            }, ms)\r\n",
       "            promise.then(resolve, reject)\r\n",
       "        })\r\n",
       "    }\r\n",
       "\r\n",
       "    if (Array.isArray(probingAddresses)) {\r\n",
       "        for (let i = 0; i < probingAddresses.length; i++) {\r\n",
       "\r\n",
       "            let rootUrl = probingAddresses[i];\r\n",
       "\r\n",
       "            if (!rootUrl.endsWith('/')) {\r\n",
       "                rootUrl = `${rootUrl}/`;\r\n",
       "            }\r\n",
       "\r\n",
       "            try {\r\n",
       "                let response = await timeout(1000, fetch(`${rootUrl}discovery`, {\r\n",
       "                    method: 'POST',\r\n",
       "                    cache: 'no-cache',\r\n",
       "                    mode: 'cors',\r\n",
       "                    timeout: 1000,\r\n",
       "                    headers: {\r\n",
       "                        'Content-Type': 'text/plain'\r\n",
       "                    },\r\n",
       "                    body: probingAddresses[i]\r\n",
       "                }));\r\n",
       "\r\n",
       "                if (response.status == 200) {\r\n",
       "                    return rootUrl;\r\n",
       "                }\r\n",
       "            }\r\n",
       "            catch (e) { }\r\n",
       "        }\r\n",
       "    }\r\n",
       "}\r\n",
       "\r\n",
       "function loadDotnetInteractiveApi() {\r\n",
       "    probeAddresses([\"http://192.168.2.93:2050/\", \"http://127.0.0.1:2050/\"])\r\n",
       "        .then((root) => {\r\n",
       "        // use probing to find host url and api resources\r\n",
       "        // load interactive helpers and language services\r\n",
       "        let dotnetInteractiveRequire = require.config({\r\n",
       "        context: '31264.Microsoft.DotNet.Interactive.Http.HttpPort',\r\n",
       "                paths:\r\n",
       "            {\r\n",
       "                'dotnet-interactive': `${root}resources`\r\n",
       "                }\r\n",
       "        }) || require;\r\n",
       "\r\n",
       "            window.dotnetInteractiveRequire = dotnetInteractiveRequire;\r\n",
       "\r\n",
       "            window.configureRequireFromExtension = function(extensionName, extensionCacheBuster) {\r\n",
       "                let paths = {};\r\n",
       "                paths[extensionName] = `${root}extensions/${extensionName}/resources/`;\r\n",
       "                \r\n",
       "                let internalRequire = require.config({\r\n",
       "                    context: extensionCacheBuster,\r\n",
       "                    paths: paths,\r\n",
       "                    urlArgs: `cacheBuster=${extensionCacheBuster}`\r\n",
       "                    }) || require;\r\n",
       "\r\n",
       "                return internalRequire\r\n",
       "            };\r\n",
       "        \r\n",
       "            dotnetInteractiveRequire([\r\n",
       "                    'dotnet-interactive/dotnet-interactive'\r\n",
       "                ],\r\n",
       "                function (dotnet) {\r\n",
       "                    dotnet.init(window);\r\n",
       "                },\r\n",
       "                function (error) {\r\n",
       "                    console.log(error);\r\n",
       "                }\r\n",
       "            );\r\n",
       "        })\r\n",
       "        .catch(error => {console.log(error);});\r\n",
       "    }\r\n",
       "\r\n",
       "// ensure `require` is available globally\r\n",
       "if ((typeof(require) !==  typeof(Function)) || (typeof(require.config) !== typeof(Function))) {\r\n",
       "    let require_script = document.createElement('script');\r\n",
       "    require_script.setAttribute('src', 'https://cdnjs.cloudflare.com/ajax/libs/require.js/2.3.6/require.min.js');\r\n",
       "    require_script.setAttribute('type', 'text/javascript');\r\n",
       "    \r\n",
       "    \r\n",
       "    require_script.onload = function() {\r\n",
       "        loadDotnetInteractiveApi();\r\n",
       "    };\r\n",
       "\r\n",
       "    document.getElementsByTagName('head')[0].appendChild(require_script);\r\n",
       "}\r\n",
       "else {\r\n",
       "    loadDotnetInteractiveApi();\r\n",
       "}\r\n",
       "\r\n",
       "    </script>\r\n",
       "</div>"
      ]
     },
     "metadata": {},
     "output_type": "display_data"
    },
    {
     "name": "stdout",
     "output_type": "stream",
     "text": [
      "Value: 5, Type: System.Int32\n",
      "Value: 5, Type: System.Double\n",
      "Value: True, Type: System.Boolean\n",
      "Value: \"5\", Type: System.String\n",
      "Value: 10, Type: System.Int32\n",
      "Value: \"55\", Type: System.String\n",
      "Value: \"52\", Type: System.String\n",
      "Value: 2.5, Type: System.Double\n",
      "Value: 1, Type: System.Int32\n",
      "Value: {5, 2, 1}, Type: System.Collections.Generic.HashSet`1[System.Int32]\n",
      "Value: False, Type: System.Boolean\n",
      "Value: 3.141592653589793, Type: System.Double\n"
     ]
    }
   ],
   "source": [
    "// Define the values\n",
    "int intValue = 5;\n",
    "double floatValue = 5.0;\n",
    "bool comparisonValue = 5 > 1;\n",
    "string stringValue = \"5\";\n",
    "int multiplicationValue = 5 * 2;\n",
    "string stringMultiplicationValue = \"5\" + \"5\"; // String concatenation\n",
    "string stringAdditionValue = \"5\" + \"2\";\n",
    "double divisionValue = 5 / 2.0; // Ensure floating-point division\n",
    "int moduloValue = 5 % 2;\n",
    "var setValue = new HashSet<int> { 5, 2, 1 }; // Set equivalent\n",
    "bool equalityValue = 5 == 3;\n",
    "double piValue = Math.PI; // Represents Pi\n",
    "\n",
    "// Output the types and values\n",
    "Console.WriteLine($\"Value: {intValue}, Type: {intValue.GetType()}\");\n",
    "Console.WriteLine($\"Value: {floatValue}, Type: {floatValue.GetType()}\");\n",
    "Console.WriteLine($\"Value: {comparisonValue}, Type: {comparisonValue.GetType()}\");\n",
    "Console.WriteLine($\"Value: \\\"{stringValue}\\\", Type: {stringValue.GetType()}\");\n",
    "Console.WriteLine($\"Value: {multiplicationValue}, Type: {multiplicationValue.GetType()}\");\n",
    "Console.WriteLine($\"Value: \\\"{stringMultiplicationValue}\\\", Type: {stringMultiplicationValue.GetType()}\");\n",
    "Console.WriteLine($\"Value: \\\"{stringAdditionValue}\\\", Type: {stringAdditionValue.GetType()}\");\n",
    "Console.WriteLine($\"Value: {divisionValue}, Type: {divisionValue.GetType()}\");\n",
    "Console.WriteLine($\"Value: {moduloValue}, Type: {moduloValue.GetType()}\");\n",
    "Console.WriteLine($\"Value: {{5, 2, 1}}, Type: {setValue.GetType()}\");\n",
    "Console.WriteLine($\"Value: {equalityValue}, Type: {equalityValue.GetType()}\");\n",
    "Console.WriteLine($\"Value: {piValue}, Type: {piValue.GetType()}\");\n"
   ]
  },
  {
   "cell_type": "markdown",
   "id": "b69c8708-7095-47e5-8843-642c05629620",
   "metadata": {},
   "source": [
    "### Question 2\n",
    "Write (and evaluate) python expressions that answer these questions:\n",
    "a. How many letters are there in 'Supercalifragilisticexpialidocious'?\n",
    "b. Does 'Supercalifragilisticexpialidocious' contain 'ice' as a substring?\n",
    "c. Which of the following words is the longest:\n",
    "Supercalifragilisticexpialidocious, Honorificabilitudinitatibus, or\n",
    "Bababadalgharaghtakamminarronnkonn?\n",
    "d. Which composer comes first in the dictionary: 'Berlioz', 'Borodin', 'Brian',\n",
    "'Bartok', 'Bellini', 'Buxtehude', 'Bernstein'. Which one comes last?"
   ]
  },
  {
   "cell_type": "code",
   "execution_count": 2,
   "id": "f0e7826a-c329-4fa3-ad19-4093388bbf15",
   "metadata": {},
   "outputs": [
    {
     "name": "stdout",
     "output_type": "stream",
     "text": [
      "34\n",
      "True\n",
      "Supercalifragilisticexpialidocious\n",
      "Bartok\n",
      "Buxtehude\n"
     ]
    }
   ],
   "source": [
    "using System;\n",
    "using System.Linq;\n",
    "\n",
    "// a. Count letters\n",
    "string word = \"Supercalifragilisticexpialidocious\";\n",
    "int letterCount = word.Length;\n",
    "Console.WriteLine(letterCount); // Output: 34\n",
    "\n",
    "// b. Check for substring\n",
    "bool containsIce = word.Contains(\"ice\");\n",
    "Console.WriteLine(containsIce); // Output: True\n",
    "\n",
    "// c. Longest word\n",
    "string[] words = {\n",
    "    \"Supercalifragilisticexpialidocious\",\n",
    "    \"Honorificabilitudinitatibus\",\n",
    "    \"Bababadalgharaghtakamminarronnkonn\"\n",
    "};\n",
    "string longestWord = words.OrderByDescending(w => w.Length).First();\n",
    "Console.WriteLine(longestWord); // Output: 'Supercalifragilisticexpialidocious'\n",
    "\n",
    "// d. First and last composer\n",
    "string[] composers = { \"Berlioz\", \"Borodin\", \"Brian\", \"Bartok\", \"Bellini\", \"Buxtehude\", \"Bernstein\" };\n",
    "string firstComposer = composers.OrderBy(c => c).First();\n",
    "string lastComposer = composers.OrderBy(c => c).Last();\n",
    "Console.WriteLine(firstComposer); // Output: 'Bartok'\n",
    "Console.WriteLine(lastComposer);   // Output: 'Buxtehude'\n"
   ]
  },
  {
   "cell_type": "markdown",
   "id": "0a344ee2-37e9-4676-a6a3-25077a756682",
   "metadata": {},
   "source": [
    "### Question 3\n",
    "Implement function triangleArea(a,b,c) that takes as input the lengths of the 3\n",
    "sides of a triangle and returns the area of the triangle. By Heron's formula, the area\n",
    "of a triangle with side lengths a, b, and c is\n",
    "s(s - a)(s -b)(s -c)\n",
    ", where\n",
    "s = (a+b+c)/2."
   ]
  },
  {
   "cell_type": "code",
   "execution_count": 3,
   "id": "f666a090-01b8-4a9e-be24-f1fac18a92dc",
   "metadata": {},
   "outputs": [
    {
     "name": "stdout",
     "output_type": "stream",
     "text": [
      "1.7320508075688772\n"
     ]
    }
   ],
   "source": [
    "using System;\n",
    "\n",
    "double TriangleArea(double a, double b, double c)\n",
    "{\n",
    "    // Calculate the semi-perimeter\n",
    "    double s = (a + b + c) / 2;\n",
    "\n",
    "    // Calculate the area using Heron's formula\n",
    "    double area = Math.Sqrt(s * (s - a) * (s - b) * (s - c));\n",
    "    return area;\n",
    "}\n",
    "\n",
    "// Example usage of the TriangleArea function\n",
    "double area = TriangleArea(2, 2, 2);\n",
    "Console.WriteLine(area);  // Output: 1.7320508075688772\n"
   ]
  },
  {
   "cell_type": "markdown",
   "id": "95897970-9d34-45ec-ad95-1ca1fd3ed159",
   "metadata": {
    "editable": true,
    "slideshow": {
     "slide_type": ""
    },
    "tags": []
   },
   "source": [
    "### Question 4\n",
    "Write a program in python to separate odd and even integers in separate arrays. Go\n",
    "to the editor\n",
    "Test Data :\n",
    "Input the number of elements to be stored in the array :5\n",
    "Input 5 elements in the array :\n",
    "element - 0 : 25\n",
    "element - 1 : 47\n",
    "element - 2 : 42\n",
    "element - 3 : 56\n",
    "element - 4 : 32\n",
    "Expected Output:\n",
    "The Even elements are:\n",
    "42 56 32\n",
    "The Odd elements are :\n",
    "25 47"
   ]
  },
  {
   "cell_type": "code",
   "execution_count": 4,
   "id": "30e1bc83-0076-4080-a385-a9fa370b316d",
   "metadata": {},
   "outputs": [
    {
     "name": "stdout",
     "output_type": "stream",
     "text": [
      "Odd numbers are: 25, 47\n",
      "Even numbers are: 42, 56, 32\n"
     ]
    }
   ],
   "source": [
    "int[] array = new int[] { 25, 47, 42, 56, 32 };\n",
    "int[] oddArray = array.Where(x => x % 2 != 0).ToArray();\n",
    "int[] evenArray = array.Where(x => x % 2 == 0).ToArray();\n",
    "\n",
    "Console.WriteLine(\"Odd numbers are: \" + string.Join(\", \", oddArray));\n",
    "Console.WriteLine(\"Even numbers are: \" + string.Join(\", \", evenArray));"
   ]
  },
  {
   "cell_type": "markdown",
   "id": "0b2ddd06-cf73-492c-81c1-65365002d655",
   "metadata": {},
   "source": [
    "### Question 5\n",
    "a. Write a function inside(x,y,x1,y1,x2,y2) that returns True or False\n",
    "depending on whether the point (x,y) lies in the rectangle with lower left\n",
    "corner (x1,y1) and upper right corner (x2,y2).\n",
    ">>> inside(1,1,0,0,2,3)\n",
    "True\n",
    ">>> inside(-1,-1,0,0,2,3)\n",
    "False\n",
    "b. Use function inside() from part a. to write an expression that tests whether\n",
    "the point (1,1) lies in both of the following rectangles: one with lower left\n",
    "corner (0.3, 0.5) and upper right corner (1.1, 0.7) and the other with lower\n",
    "left corner (0.5, 0.2) and upper right corner (1.1, 2). "
   ]
  },
  {
   "cell_type": "code",
   "execution_count": 5,
   "id": "57bf4578-5aa6-458a-aaf1-213cd02c4403",
   "metadata": {
    "editable": true,
    "slideshow": {
     "slide_type": ""
    },
    "tags": []
   },
   "outputs": [
    {
     "name": "stdout",
     "output_type": "stream",
     "text": [
      "True\n",
      "False\n",
      "Is the point (1, 1) inside rectangle 1? False\n",
      "Is the point (1, 1) inside rectangle 2? True\n"
     ]
    }
   ],
   "source": [
    "using System;\n",
    "\n",
    "// Function to check if the point (x, y) is inside the rectangle defined by (x1, y1) and (x2, y2)\n",
    "bool Inside(double x, double y, double x1, double y1, double x2, double y2)\n",
    "{\n",
    "    return x >= x1 && x <= x2 && y >= y1 && y <= y2;\n",
    "}\n",
    "\n",
    "// Test the Inside function\n",
    "Console.WriteLine(Inside(1, 1, 0, 0, 2, 3)); // Output: True\n",
    "Console.WriteLine(Inside(-1, -1, 0, 0, 2, 3)); // Output: False\n",
    "\n",
    "// Define rectangles\n",
    "double[] rectangle1 = { 0.3, 0.5, 1.1, 0.7 }; // (x1, y1, x2, y2)\n",
    "double[] rectangle2 = { 0.5, 0.2, 1.1, 2 };   // (x1, y1, x2, y2)\n",
    "\n",
    "// Test \n",
    "double[] point = { 1, 1 };\n",
    "\n",
    "// Checking if the point is inside both rectangles\n",
    "bool isInsideRectangle1 = Inside(point[0], point[1], rectangle1[0], rectangle1[1], rectangle1[2], rectangle1[3]);\n",
    "bool isInsideRectangle2 = Inside(point[0], point[1], rectangle2[0], rectangle2[1], rectangle2[2], rectangle2[3]);\n",
    "\n",
    "Console.WriteLine($\"Is the point ({point[0]}, {point[1]}) inside rectangle 1? {isInsideRectangle1}\"); // Output: False\n",
    "Console.WriteLine($\"Is the point ({point[0]}, {point[1]}) inside rectangle 2? {isInsideRectangle2}\"); // Output: True\n"
   ]
  },
  {
   "cell_type": "markdown",
   "id": "af2eb482-c10c-463e-ad70-364df135e12b",
   "metadata": {},
   "source": [
    "### Question 6\n",
    "You can turn a word into pig-Latin using the following two rules (simplified):\n",
    "• If the word starts with a consonant, move that letter to the end and append\n",
    "'ay'. For example, 'happy' becomes 'appyhay' and 'pencil' becomes 'encilpay'.\n",
    "• If the word starts with a vowel, simply append 'way' to the end of the word.\n",
    "For example, 'enter' becomes 'enterway' and 'other' becomes 'otherway' . For\n",
    "our purposes, there are 5 vowels: a, e, i, o, u (so we count y as a consonant).\n",
    "Write a function pig() that takes a word (i.e., a string) as input and returns its pigLatin form. Your function should still work if the input word contains upper case\n",
    "characters. Your output should always be lower case however. "
   ]
  },
  {
   "cell_type": "code",
   "execution_count": 7,
   "id": "d8de838f-2e2f-477b-96dc-42473cec42ac",
   "metadata": {},
   "outputs": [
    {
     "name": "stdout",
     "output_type": "stream",
     "text": [
      "appyhay\n",
      "enterway\n"
     ]
    }
   ],
   "source": [
    "using System;\n",
    "\n",
    "string Pig(string word)\n",
    "{\n",
    "    // Convert the input word to lowercase\n",
    "    word = word.ToLower();\n",
    "    \n",
    "    // Check if the first letter is a vowel\n",
    "    if (\"aeiou\".Contains(word[0]))\n",
    "    {\n",
    "        return word + \"way\"; // Rule for words starting with a vowel\n",
    "    }\n",
    "    else\n",
    "    {\n",
    "        // Rule for words starting with a consonant\n",
    "        return word.Substring(1) + word[0] + \"ay\";\n",
    "    }\n",
    "}\n",
    "\n",
    "// Test the function with sample inputs\n",
    "Console.WriteLine(Pig(\"happy\")); // Output: \"appyhay\"\n",
    "Console.WriteLine(Pig(\"Enter\")); // Output: \"enterway\"\n"
   ]
  },
  {
   "cell_type": "markdown",
   "id": "f9180586-d3cc-43a7-a1e1-aa640138e634",
   "metadata": {},
   "source": [
    "### Question 7\n",
    "File bloodtype1.txt records blood-types of patients (A, B, AB, O or OO) at a clinic.\n",
    "Write a function bldcount() that reads the file with name name and reports (i.e.,\n",
    "prints) how many patients there are in each bloodtype.\n",
    ">>> bldcount('bloodtype.txt')\n",
    "There are 10 patients of blood type A.\n",
    "There is one patient of blood type B.\n",
    "There are 10 patients of blood type AB.\n",
    "There are 12 patients of blood type O.\n",
    "There are no patients of blood type OO."
   ]
  },
  {
   "cell_type": "code",
   "execution_count": 8,
   "id": "42d939db-6a9b-44ce-81e1-1db5b0dcb5ae",
   "metadata": {},
   "outputs": [
    {
     "name": "stdout",
     "output_type": "stream",
     "text": [
      "There are 0 patients of blood type A.\n",
      "There are 0 patients of blood type B.\n",
      "There are 0 patients of blood type AB.\n",
      "There are 0 patients of blood type O.\n",
      "There are no patients of blood type OO.\n"
     ]
    }
   ],
   "source": [
    "using System;\n",
    "using System.IO;\n",
    "using System.Linq;\n",
    "\n",
    "void BldCount(string fileName)\n",
    "{\n",
    "    // Read all lines from the file\n",
    "    string[] bloodTypes = File.ReadAllLines(fileName);\n",
    "\n",
    "    // Count occurrences of each blood type\n",
    "    int countA = bloodTypes.Count(b => b == \"A\");\n",
    "    int countB = bloodTypes.Count(b => b == \"B\");\n",
    "    int countAB = bloodTypes.Count(b => b == \"AB\");\n",
    "    int countO = bloodTypes.Count(b => b == \"O\");\n",
    "    int countOO = bloodTypes.Count(b => b == \"OO\");\n",
    "\n",
    "    // Report the counts\n",
    "    Console.WriteLine($\"There are {countA} patients of blood type A.\");\n",
    "    Console.WriteLine($\"There {(countB == 1 ? \"is\" : \"are\")} {countB} patient{(countB == 1 ? \"\" : \"s\")} of blood type B.\");\n",
    "    Console.WriteLine($\"There are {countAB} patients of blood type AB.\");\n",
    "    Console.WriteLine($\"There are {countO} patients of blood type O.\");\n",
    "    Console.WriteLine($\"There {(countOO == 0 ? \"are no\" : \"are\")} patients of blood type OO.\");\n",
    "}\n",
    "\n",
    "// Call the function with the full file path\n",
    "BldCount(@\"bloodtype.txt\");"
   ]
  },
  {
   "cell_type": "markdown",
   "id": "03043497-0806-44a2-98c8-3ff9d5dcb8c8",
   "metadata": {},
   "source": [
    "### Question 8\n",
    "    \n",
    "Write a function curconv() that takes as input:\n",
    "1. a currency represented using a string (e.g., 'JPY' for the Japanese Yen or\n",
    "'EUR' for the Euro)\n",
    "2. an amount\n",
    "and then converts and returns the amount in US dollars.\n",
    ">>> curconv('EUR', 100)\n",
    "122.96544\n",
    ">>> curconv('JPY', 100)\n",
    "1.241401\n",
    "The currency rates you will need are stored in file currencies.txt:"
   ]
  },
  {
   "cell_type": "code",
   "execution_count": null,
   "id": "0e148b23-4d0f-4539-8ecf-cbfd9d936949",
   "metadata": {},
   "outputs": [],
   "source": [
    "using System;\n",
    "using System.Collections.Generic;\n",
    "using System.IO;\n",
    "\n",
    "class CurrencyConverter\n",
    "{\n",
    "    private Dictionary<string, double> currencyRates;\n",
    "\n",
    "    public CurrencyConverter()\n",
    "    {\n",
    "        // Read currency rates from the file\n",
    "        currencyRates = new Dictionary<string, double>();\n",
    "        try\n",
    "        {\n",
    "            string[] lines = File.ReadAllLines(\"currencies.txt\");\n",
    "            foreach (string line in lines)\n",
    "            {\n",
    "                string[] parts = line.Split();\n",
    "                string currencyCode = parts[0];\n",
    "                double rate = double.Parse(parts[1]);\n",
    "                currencyRates[currencyCode] = rate;\n",
    "            }\n",
    "        }\n",
    "        catch (FileNotFoundException)\n",
    "        {\n",
    "            Console.WriteLine(\"Error: 'currencies.txt' file not found.\");\n",
    "            // Handle the error (e.g., exit the program or provide default rates)\n",
    "        }\n",
    "    }\n",
    "\n",
    "    public double ConvertToUSD(string currency, double amount)\n",
    "    {\n",
    "        if (currencyRates.ContainsKey(currency))\n",
    "        {\n",
    "            double usdAmount = amount * currencyRates[currency];\n",
    "            return usdAmount;\n",
    "        }\n",
    "        else\n",
    "        {\n",
    "            Console.WriteLine($\"Currency code '{currency}' not found in the currency rates.\");\n",
    "            return 0; // Or handle the error as needed\n",
    "        }\n",
    "    }\n",
    "\n",
    "    static void Main()\n",
    "    {\n",
    "        CurrencyConverter converter = new CurrencyConverter();\n",
    "        Console.WriteLine(converter.ConvertToUSD(\"EUR\", 100));\n",
    "        Console.WriteLine(converter.ConvertToUSD(\"JPY\", 100));\n",
    "    }\n",
    "}\n"
   ]
  },
  {
   "cell_type": "code",
   "execution_count": null,
   "id": "a9d7e85e-0a07-4ee3-83d0-f0ded09e1e94",
   "metadata": {},
   "outputs": [],
   "source": [
    "** Saving above code as .cs file and executing through command line gives desired output **"
   ]
  },
  {
   "cell_type": "markdown",
   "id": "681aefa9-adbc-454d-81ed-774d4df751a0",
   "metadata": {},
   "source": [
    "### Question 9\n",
    "Each of the following will cause an exception (an error). Identify what type of\n",
    "exception each will cause.\n",
    "Trying to add incompatible variables, as in\n",
    "adding 6 + ‘a’\n",
    "Referring to the 12th item of a list that has only 10\n",
    "items\n",
    "Using a value that is out of range for a function’s\n",
    "input, such as calling math.sqrt(-1.0)\n",
    "Using an undeclared variable, such as print(x)\n",
    "when x has not been defined\n",
    "Trying to open a file that does not exist, such as\n",
    "mistyping the file name or looking in the wrong\n",
    "directory. "
   ]
  },
  {
   "cell_type": "markdown",
   "id": "cf540ff5-9216-4aa5-9875-76adc2991c9c",
   "metadata": {},
   "source": [
    "TypeError: incompatible types (6 + 'a')\n",
    "IndexError: list index out of range (12th item in a list of 10)\n",
    "ValueError: math domain error (sqrt of negative number)\n",
    "NameError: variable not defined (using 'x' before defining)\n",
    "FileNotFoundError: trying to open a non-existent file"
   ]
  },
  {
   "cell_type": "markdown",
   "id": "635fadbf-20a2-4c18-8069-eeac2ec632c9",
   "metadata": {},
   "source": [
    "### Question 10\n",
    "Encryption is the process of hiding the meaning of a text by substituting letters in the\n",
    "message with other letters, according to some systems. If the process is successful, no\n",
    "one but the intended recipient can understand the encrypted message. Cryptanalysis\n",
    "refers to attempts to undo the encryption, even if some details are\n",
    "unknown (for example, if an encrypted message has been intercepted). The first step\n",
    "of cryptanalysis is often to build up a table of letter frequencies in the encrypted text.\n",
    "Assume that the string letters is already defined as\n",
    "'abcdefghijklmnopqrstuvwxyz'. Write a function called frequencies()\n",
    "that takes a string as its only parameter, and returns a list of integers, showing the\n",
    "number of times each character appears in the text. Your function may ignore any\n",
    "characters that are not in letters.\n",
    ">>> frequencies('The quick red fox got bored and went home.')\n",
    "[1, 1, 1, 3, 5, 1, 1, 2, 1, 0, 1, 0, 1, 2, 4, 0, 1, 2, 0, 2,\n",
    "1, 0, 1, 1, 0, 0]\n",
    ">>> frequencies('apple')"
   ]
  },
  {
   "cell_type": "code",
   "execution_count": 10,
   "id": "9793d06d-4dd0-4e40-a9f0-751536055422",
   "metadata": {},
   "outputs": [
    {
     "name": "stdout",
     "output_type": "stream",
     "text": [
      "1, 1, 1, 3, 5, 1, 1, 2, 1, 0, 1, 0, 1, 2, 4, 0, 1, 2, 0, 3, 1, 0, 1, 1, 0, 0\n",
      "1, 0, 0, 0, 1, 0, 0, 0, 0, 0, 0, 1, 0, 0, 0, 2, 0, 0, 0, 0, 0, 0, 0, 0, 0, 0\n"
     ]
    }
   ],
   "source": [
    "using System;\n",
    "\n",
    "static int[] Frequencies(string text)\n",
    "{\n",
    "    string letters = \"abcdefghijklmnopqrstuvwxyz\";\n",
    "    int[] frequency = new int[26];\n",
    "\n",
    "    foreach (char c in text.ToLower())\n",
    "    {\n",
    "        int index = letters.IndexOf(c);\n",
    "        if (index != -1)\n",
    "        {\n",
    "            frequency[index]++;\n",
    "        }\n",
    "    }\n",
    "\n",
    "    return frequency;\n",
    "}\n",
    "\n",
    "// Example usage\n",
    "var result1 = Frequencies(\"The quick red fox got bored and went home.\");\n",
    "Console.WriteLine(string.Join(\", \", result1));\n",
    "\n",
    "var result2 = Frequencies(\"apple\");\n",
    "Console.WriteLine(string.Join(\", \", result2));\n"
   ]
  }
 ],
 "metadata": {
  "kernelspec": {
   "display_name": ".NET (C#)",
   "language": "C#",
   "name": ".net-csharp"
  },
  "language_info": {
   "file_extension": ".cs",
   "mimetype": "text/x-csharp",
   "name": "C#",
   "pygments_lexer": "csharp",
   "version": "12.0"
  }
 },
 "nbformat": 4,
 "nbformat_minor": 5
}
